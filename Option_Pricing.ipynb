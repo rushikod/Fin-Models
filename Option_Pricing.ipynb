{
 "cells": [
  {
   "cell_type": "markdown",
   "id": "5c89e8a8-b221-4161-a7e0-59290ff43dd5",
   "metadata": {},
   "source": [
    "## Black-Schole Model"
   ]
  },
  {
   "cell_type": "code",
   "execution_count": 118,
   "id": "fda2a327-a07a-42c1-80f0-64e2e02f3f79",
   "metadata": {},
   "outputs": [],
   "source": [
    "import math\n",
    "from scipy.stats import norm"
   ]
  },
  {
   "cell_type": "code",
   "execution_count": 120,
   "id": "da8060e7-46db-4bc1-a5ff-badb2d46db50",
   "metadata": {},
   "outputs": [],
   "source": [
    "# Black-Scholes Option Pricing Function\n",
    "def black_scholes(S, K, T, r, sigma, option_type=\"call\"):\n",
    "    \"\"\"\n",
    "    Parameters:\n",
    "    S: Spot price\n",
    "    K: Strike price\n",
    "    T: Time to maturity (in years)\n",
    "    r: Risk-free rate (annualized, continuous compounding)\n",
    "    sigma: Volatility (annualized)\n",
    "    option_type: \"call\" or \"put\"\n",
    "    \"\"\"\n",
    "    \n",
    "    d1 = (math.log(S / K) + (r + 0.5 * sigma ** 2) * T) / (sigma * math.sqrt(T))\n",
    "    d2 = d1 - sigma * math.sqrt(T)\n",
    "\n",
    "    if option_type == \"call\":\n",
    "        price = S * norm.cdf(d1) - K * math.exp(-r * T) * norm.cdf(d2)\n",
    "    elif option_type == \"put\":\n",
    "        price = K * math.exp(-r * T) * norm.cdf(-d2) - S * norm.cdf(-d1)\n",
    "    else:\n",
    "        raise ValueError(\"option_type must be 'call' or 'put'\")\n",
    "\n",
    "    return round(price, 2)"
   ]
  },
  {
   "cell_type": "code",
   "execution_count": 122,
   "id": "281b360e-a2ff-4423-b10a-de05b433ba41",
   "metadata": {},
   "outputs": [
    {
     "name": "stdout",
     "output_type": "stream",
     "text": [
      "European Call Option Price: ₹321.08\n",
      "European Put Option Price: ₹123.97\n"
     ]
    }
   ],
   "source": [
    "# Parameters\n",
    "S = 24980      # Current Stock Price\n",
    "K = 24800      # Strike Price\n",
    "T = 4/365      # Time to Expiry in years (6 months)\n",
    "r = 0.063     # 5% Risk-Free Rate\n",
    "sigma = 0.2  # 20% Volatility\n",
    "\n",
    "# Calculate\n",
    "call_price = black_scholes(S, K, T, r, sigma, option_type=\"call\")\n",
    "put_price = black_scholes(S, K, T, r, sigma, option_type=\"put\")\n",
    "\n",
    "print(f\"European Call Option Price: ₹{call_price}\")\n",
    "print(f\"European Put Option Price: ₹{put_price}\")"
   ]
  },
  {
   "cell_type": "code",
   "execution_count": null,
   "id": "bcd81eb9-645f-407a-baf2-668d161944ac",
   "metadata": {},
   "outputs": [],
   "source": []
  },
  {
   "cell_type": "markdown",
   "id": "7148b6e1-0b24-49e2-bdbf-1c68adf0ceac",
   "metadata": {},
   "source": [
    "## Monte Carlo Model"
   ]
  },
  {
   "cell_type": "code",
   "execution_count": 126,
   "id": "7e5e6c08-ba98-4703-905d-b359f8fac6b9",
   "metadata": {},
   "outputs": [],
   "source": [
    "import numpy as np"
   ]
  },
  {
   "cell_type": "code",
   "execution_count": 141,
   "id": "c148f880-af03-4ac8-9214-da735657ffd1",
   "metadata": {},
   "outputs": [
    {
     "name": "stdout",
     "output_type": "stream",
     "text": [
      "Call Price: 492.84\n",
      "Put Price: 59.83\n"
     ]
    }
   ],
   "source": [
    "# Step 1: Parameters\n",
    "S = 24980      # Current Stock Price\n",
    "K = 24800      # Strike Price\n",
    "T = 4/365      # Time to Expiry in years\n",
    "r = 0.063      # 6.3% Risk-Free Rate\n",
    "sigma = 0.2    # 20% Volatility\n",
    "num_simulations = 1000\n",
    "returns = 0.01\n",
    "volatility = sigma * np.sqrt(T)\n",
    "\n",
    "# Step 2: Generate 1000 random standard normal returns\n",
    "standard_normals = np.random.normal(loc=returns, scale=volatility, size=num_simulations)\n",
    "\n",
    "# Step 3: Use the simulated returns to get the price at maturity\n",
    "prices = S * (1 + standard_normals)\n",
    "\n",
    "# Step 4: Calculate payoff for call and put\n",
    "call_payoffs = np.maximum(prices - K, 0)\n",
    "put_payoffs = np.maximum(K - prices, 0)\n",
    "\n",
    "# Step 5: Calculate mean payoff (missing parentheses in your code!)\n",
    "call_price = call_payoffs.mean()\n",
    "put_price = put_payoffs.mean()\n",
    "\n",
    "print(f\"Call Price: {call_price:.2f}\")\n",
    "print(f\"Put Price: {put_price:.2f}\")"
   ]
  },
  {
   "cell_type": "code",
   "execution_count": null,
   "id": "903610d4-5dec-42f2-a7dd-1febd2728cbb",
   "metadata": {},
   "outputs": [],
   "source": []
  }
 ],
 "metadata": {
  "kernelspec": {
   "display_name": "Python 3 (ipykernel)",
   "language": "python",
   "name": "python3"
  },
  "language_info": {
   "codemirror_mode": {
    "name": "ipython",
    "version": 3
   },
   "file_extension": ".py",
   "mimetype": "text/x-python",
   "name": "python",
   "nbconvert_exporter": "python",
   "pygments_lexer": "ipython3",
   "version": "3.12.4"
  }
 },
 "nbformat": 4,
 "nbformat_minor": 5
}
