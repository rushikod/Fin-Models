{
 "cells": [
  {
   "cell_type": "code",
   "execution_count": 6,
   "id": "36000725-f9ec-4cd1-a903-52adb006cfd9",
   "metadata": {},
   "outputs": [
    {
     "name": "stdout",
     "output_type": "stream",
     "text": [
      "Requirement already satisfied: yfinance in c:\\users\\rushikesh\\anaconda3\\lib\\site-packages (0.2.50)\n",
      "Requirement already satisfied: pandas>=1.3.0 in c:\\users\\rushikesh\\anaconda3\\lib\\site-packages (from yfinance) (2.2.2)\n",
      "Requirement already satisfied: numpy>=1.16.5 in c:\\users\\rushikesh\\anaconda3\\lib\\site-packages (from yfinance) (1.26.4)\n",
      "Requirement already satisfied: requests>=2.31 in c:\\users\\rushikesh\\anaconda3\\lib\\site-packages (from yfinance) (2.32.2)\n",
      "Requirement already satisfied: multitasking>=0.0.7 in c:\\users\\rushikesh\\anaconda3\\lib\\site-packages (from yfinance) (0.0.11)\n",
      "Requirement already satisfied: lxml>=4.9.1 in c:\\users\\rushikesh\\anaconda3\\lib\\site-packages (from yfinance) (5.2.1)\n",
      "Requirement already satisfied: platformdirs>=2.0.0 in c:\\users\\rushikesh\\appdata\\roaming\\python\\python312\\site-packages (from yfinance) (4.3.6)\n",
      "Requirement already satisfied: pytz>=2022.5 in c:\\users\\rushikesh\\anaconda3\\lib\\site-packages (from yfinance) (2024.1)\n",
      "Requirement already satisfied: frozendict>=2.3.4 in c:\\users\\rushikesh\\anaconda3\\lib\\site-packages (from yfinance) (2.4.2)\n",
      "Requirement already satisfied: peewee>=3.16.2 in c:\\users\\rushikesh\\anaconda3\\lib\\site-packages (from yfinance) (3.17.8)\n",
      "Requirement already satisfied: beautifulsoup4>=4.11.1 in c:\\users\\rushikesh\\anaconda3\\lib\\site-packages (from yfinance) (4.12.3)\n",
      "Requirement already satisfied: html5lib>=1.1 in c:\\users\\rushikesh\\anaconda3\\lib\\site-packages (from yfinance) (1.1)\n",
      "Requirement already satisfied: soupsieve>1.2 in c:\\users\\rushikesh\\anaconda3\\lib\\site-packages (from beautifulsoup4>=4.11.1->yfinance) (2.5)\n",
      "Requirement already satisfied: six>=1.9 in c:\\users\\rushikesh\\anaconda3\\lib\\site-packages (from html5lib>=1.1->yfinance) (1.16.0)\n",
      "Requirement already satisfied: webencodings in c:\\users\\rushikesh\\anaconda3\\lib\\site-packages (from html5lib>=1.1->yfinance) (0.5.1)\n",
      "Requirement already satisfied: python-dateutil>=2.8.2 in c:\\users\\rushikesh\\anaconda3\\lib\\site-packages (from pandas>=1.3.0->yfinance) (2.9.0.post0)\n",
      "Requirement already satisfied: tzdata>=2022.7 in c:\\users\\rushikesh\\anaconda3\\lib\\site-packages (from pandas>=1.3.0->yfinance) (2023.3)\n",
      "Requirement already satisfied: charset-normalizer<4,>=2 in c:\\users\\rushikesh\\anaconda3\\lib\\site-packages (from requests>=2.31->yfinance) (2.0.4)\n",
      "Requirement already satisfied: idna<4,>=2.5 in c:\\users\\rushikesh\\anaconda3\\lib\\site-packages (from requests>=2.31->yfinance) (3.7)\n",
      "Requirement already satisfied: urllib3<3,>=1.21.1 in c:\\users\\rushikesh\\anaconda3\\lib\\site-packages (from requests>=2.31->yfinance) (2.2.2)\n",
      "Requirement already satisfied: certifi>=2017.4.17 in c:\\users\\rushikesh\\anaconda3\\lib\\site-packages (from requests>=2.31->yfinance) (2024.12.14)\n"
     ]
    }
   ],
   "source": [
    "import numpy as np\n",
    "import pandas as pd\n",
    "!pip install yfinance\n",
    "import yfinance as yf\n",
    "import matplotlib.pyplot as plt\n",
    "from scipy.stats import linregress\n",
    "from scipy.stats import norm"
   ]
  },
  {
   "cell_type": "code",
   "execution_count": 7,
   "id": "778ff5ee-63ef-490f-9802-020f247b7c07",
   "metadata": {},
   "outputs": [
    {
     "name": "stdout",
     "output_type": "stream",
     "text": [
      "Fetching stock data...\n"
     ]
    },
    {
     "name": "stderr",
     "output_type": "stream",
     "text": [
      "[*********************100%***********************]  13 of 13 completed\n"
     ]
    }
   ],
   "source": [
    "# Step 1: Fetch Historical Data\n",
    "print(\"Fetching stock data...\")\n",
    "stocks = [\"AARTIPHARM.NS\", \"BLUESTARCO.NS\", \"FEDERALBNK.NS\", \"ICIL.NS\", \"IEX.NS\", \n",
    "    \"ITC.NS\", \"MARKSANS.NS\", \"RAYMOND.NS\", \"NITINSPIN.NS\", \"RALLIS.NS\",\n",
    "    \"APOLLO.NS\", \"WINDLAS.NS\", \"NATCOPHARM.NS\"]\n",
    "data = yf.download(stocks, start='2024-01-14', end='2025-01-15')['Adj Close']"
   ]
  },
  {
   "cell_type": "code",
   "execution_count": 8,
   "id": "1354a184-287f-4d5f-a7b4-ea6b7bee9b13",
   "metadata": {},
   "outputs": [
    {
     "data": {
      "text/html": [
       "<div>\n",
       "<style scoped>\n",
       "    .dataframe tbody tr th:only-of-type {\n",
       "        vertical-align: middle;\n",
       "    }\n",
       "\n",
       "    .dataframe tbody tr th {\n",
       "        vertical-align: top;\n",
       "    }\n",
       "\n",
       "    .dataframe thead th {\n",
       "        text-align: right;\n",
       "    }\n",
       "</style>\n",
       "<table border=\"1\" class=\"dataframe\">\n",
       "  <thead>\n",
       "    <tr style=\"text-align: right;\">\n",
       "      <th>Ticker</th>\n",
       "      <th>AARTIPHARM.NS</th>\n",
       "      <th>APOLLO.NS</th>\n",
       "      <th>BLUESTARCO.NS</th>\n",
       "      <th>FEDERALBNK.NS</th>\n",
       "      <th>ICIL.NS</th>\n",
       "      <th>IEX.NS</th>\n",
       "      <th>ITC.NS</th>\n",
       "      <th>MARKSANS.NS</th>\n",
       "      <th>NATCOPHARM.NS</th>\n",
       "      <th>NITINSPIN.NS</th>\n",
       "      <th>RALLIS.NS</th>\n",
       "      <th>RAYMOND.NS</th>\n",
       "      <th>WINDLAS.NS</th>\n",
       "    </tr>\n",
       "    <tr>\n",
       "      <th>Date</th>\n",
       "      <th></th>\n",
       "      <th></th>\n",
       "      <th></th>\n",
       "      <th></th>\n",
       "      <th></th>\n",
       "      <th></th>\n",
       "      <th></th>\n",
       "      <th></th>\n",
       "      <th></th>\n",
       "      <th></th>\n",
       "      <th></th>\n",
       "      <th></th>\n",
       "      <th></th>\n",
       "    </tr>\n",
       "  </thead>\n",
       "  <tbody>\n",
       "    <tr>\n",
       "      <th>2024-01-15</th>\n",
       "      <td>531.281982</td>\n",
       "      <td>123.291824</td>\n",
       "      <td>1057.964233</td>\n",
       "      <td>152.047272</td>\n",
       "      <td>285.219971</td>\n",
       "      <td>160.951385</td>\n",
       "      <td>452.800629</td>\n",
       "      <td>160.421616</td>\n",
       "      <td>844.892944</td>\n",
       "      <td>329.169678</td>\n",
       "      <td>253.260696</td>\n",
       "      <td>1827.447510</td>\n",
       "      <td>480.452301</td>\n",
       "    </tr>\n",
       "    <tr>\n",
       "      <th>2024-01-16</th>\n",
       "      <td>516.811462</td>\n",
       "      <td>122.892014</td>\n",
       "      <td>1046.860229</td>\n",
       "      <td>148.816467</td>\n",
       "      <td>279.155701</td>\n",
       "      <td>161.393967</td>\n",
       "      <td>457.351807</td>\n",
       "      <td>159.872742</td>\n",
       "      <td>828.313660</td>\n",
       "      <td>328.175659</td>\n",
       "      <td>258.063507</td>\n",
       "      <td>1829.887939</td>\n",
       "      <td>460.924103</td>\n",
       "    </tr>\n",
       "  </tbody>\n",
       "</table>\n",
       "</div>"
      ],
      "text/plain": [
       "Ticker      AARTIPHARM.NS   APOLLO.NS  BLUESTARCO.NS  FEDERALBNK.NS  \\\n",
       "Date                                                                  \n",
       "2024-01-15     531.281982  123.291824    1057.964233     152.047272   \n",
       "2024-01-16     516.811462  122.892014    1046.860229     148.816467   \n",
       "\n",
       "Ticker         ICIL.NS      IEX.NS      ITC.NS  MARKSANS.NS  NATCOPHARM.NS  \\\n",
       "Date                                                                         \n",
       "2024-01-15  285.219971  160.951385  452.800629   160.421616     844.892944   \n",
       "2024-01-16  279.155701  161.393967  457.351807   159.872742     828.313660   \n",
       "\n",
       "Ticker      NITINSPIN.NS   RALLIS.NS   RAYMOND.NS  WINDLAS.NS  \n",
       "Date                                                           \n",
       "2024-01-15    329.169678  253.260696  1827.447510  480.452301  \n",
       "2024-01-16    328.175659  258.063507  1829.887939  460.924103  "
      ]
     },
     "execution_count": 8,
     "metadata": {},
     "output_type": "execute_result"
    }
   ],
   "source": [
    "data.head(2)"
   ]
  },
  {
   "cell_type": "code",
   "execution_count": 9,
   "id": "f8eaf3ee-1a2d-4f1a-9de3-cb1b57b560cd",
   "metadata": {},
   "outputs": [
    {
     "data": {
      "text/html": [
       "<div>\n",
       "<style scoped>\n",
       "    .dataframe tbody tr th:only-of-type {\n",
       "        vertical-align: middle;\n",
       "    }\n",
       "\n",
       "    .dataframe tbody tr th {\n",
       "        vertical-align: top;\n",
       "    }\n",
       "\n",
       "    .dataframe thead th {\n",
       "        text-align: right;\n",
       "    }\n",
       "</style>\n",
       "<table border=\"1\" class=\"dataframe\">\n",
       "  <thead>\n",
       "    <tr style=\"text-align: right;\">\n",
       "      <th>Ticker</th>\n",
       "      <th>AARTIPHARM.NS</th>\n",
       "      <th>APOLLO.NS</th>\n",
       "      <th>BLUESTARCO.NS</th>\n",
       "      <th>FEDERALBNK.NS</th>\n",
       "      <th>ICIL.NS</th>\n",
       "      <th>IEX.NS</th>\n",
       "      <th>ITC.NS</th>\n",
       "      <th>MARKSANS.NS</th>\n",
       "      <th>NATCOPHARM.NS</th>\n",
       "      <th>NITINSPIN.NS</th>\n",
       "      <th>RALLIS.NS</th>\n",
       "      <th>RAYMOND.NS</th>\n",
       "      <th>WINDLAS.NS</th>\n",
       "    </tr>\n",
       "    <tr>\n",
       "      <th>Date</th>\n",
       "      <th></th>\n",
       "      <th></th>\n",
       "      <th></th>\n",
       "      <th></th>\n",
       "      <th></th>\n",
       "      <th></th>\n",
       "      <th></th>\n",
       "      <th></th>\n",
       "      <th></th>\n",
       "      <th></th>\n",
       "      <th></th>\n",
       "      <th></th>\n",
       "      <th></th>\n",
       "    </tr>\n",
       "  </thead>\n",
       "  <tbody>\n",
       "    <tr>\n",
       "      <th>2024-01-16</th>\n",
       "      <td>-0.027237</td>\n",
       "      <td>-0.003243</td>\n",
       "      <td>-0.010496</td>\n",
       "      <td>-0.021249</td>\n",
       "      <td>-0.021262</td>\n",
       "      <td>0.002750</td>\n",
       "      <td>0.010051</td>\n",
       "      <td>-0.003421</td>\n",
       "      <td>-0.019623</td>\n",
       "      <td>-0.003020</td>\n",
       "      <td>0.018964</td>\n",
       "      <td>0.001335</td>\n",
       "      <td>-0.040645</td>\n",
       "    </tr>\n",
       "    <tr>\n",
       "      <th>2024-01-17</th>\n",
       "      <td>-0.012508</td>\n",
       "      <td>-0.009760</td>\n",
       "      <td>0.010036</td>\n",
       "      <td>-0.025384</td>\n",
       "      <td>-0.015135</td>\n",
       "      <td>-0.102681</td>\n",
       "      <td>-0.012068</td>\n",
       "      <td>-0.039638</td>\n",
       "      <td>-0.016289</td>\n",
       "      <td>0.006664</td>\n",
       "      <td>-0.014774</td>\n",
       "      <td>-0.012547</td>\n",
       "      <td>0.032881</td>\n",
       "    </tr>\n",
       "  </tbody>\n",
       "</table>\n",
       "</div>"
      ],
      "text/plain": [
       "Ticker      AARTIPHARM.NS  APOLLO.NS  BLUESTARCO.NS  FEDERALBNK.NS   ICIL.NS  \\\n",
       "Date                                                                           \n",
       "2024-01-16      -0.027237  -0.003243      -0.010496      -0.021249 -0.021262   \n",
       "2024-01-17      -0.012508  -0.009760       0.010036      -0.025384 -0.015135   \n",
       "\n",
       "Ticker        IEX.NS    ITC.NS  MARKSANS.NS  NATCOPHARM.NS  NITINSPIN.NS  \\\n",
       "Date                                                                       \n",
       "2024-01-16  0.002750  0.010051    -0.003421      -0.019623     -0.003020   \n",
       "2024-01-17 -0.102681 -0.012068    -0.039638      -0.016289      0.006664   \n",
       "\n",
       "Ticker      RALLIS.NS  RAYMOND.NS  WINDLAS.NS  \n",
       "Date                                           \n",
       "2024-01-16   0.018964    0.001335   -0.040645  \n",
       "2024-01-17  -0.014774   -0.012547    0.032881  "
      ]
     },
     "execution_count": 9,
     "metadata": {},
     "output_type": "execute_result"
    }
   ],
   "source": [
    "# Calculate daily returns\n",
    "returns = data.pct_change().dropna()\n",
    "returns.head(2)"
   ]
  },
  {
   "cell_type": "code",
   "execution_count": 68,
   "id": "f102fad2-71e7-494a-bd0b-3f4c6e3732d8",
   "metadata": {},
   "outputs": [],
   "source": [
    "# Portfolio weights (as provided in your data)\n",
    "weights = np.array([4.25, 4.87, 7.44, 5.58, 8.95, 11.02, 6.64, 9.84, 6.69, \n",
    "                    10.10, 7.12, 10.23, 7.53]) / 100  # Converting percentage to decimal"
   ]
  },
  {
   "cell_type": "code",
   "execution_count": 70,
   "id": "4d9daf9e-308c-476e-a060-09dd9ea0ffe9",
   "metadata": {},
   "outputs": [
    {
     "data": {
      "text/plain": [
       "Date\n",
       "2024-01-16   -0.007743\n",
       "2024-01-17   -0.019325\n",
       "2024-01-18   -0.004203\n",
       "2024-01-19    0.008072\n",
       "2024-01-23   -0.026028\n",
       "                ...   \n",
       "2025-01-08   -0.013331\n",
       "2025-01-09   -0.015484\n",
       "2025-01-10   -0.030229\n",
       "2025-01-13   -0.032191\n",
       "2025-01-14    0.024414\n",
       "Length: 245, dtype: float64"
      ]
     },
     "execution_count": 70,
     "metadata": {},
     "output_type": "execute_result"
    }
   ],
   "source": [
    "# Portfolio daily returns\n",
    "portfolio_returns = returns.dot(weights).dropna()\n",
    "portfolio_returns"
   ]
  },
  {
   "cell_type": "code",
   "execution_count": 72,
   "id": "78b5bd5d-1f63-4a15-98f4-de0bc515985f",
   "metadata": {},
   "outputs": [
    {
     "data": {
      "text/html": [
       "<div>\n",
       "<style scoped>\n",
       "    .dataframe tbody tr th:only-of-type {\n",
       "        vertical-align: middle;\n",
       "    }\n",
       "\n",
       "    .dataframe tbody tr th {\n",
       "        vertical-align: top;\n",
       "    }\n",
       "\n",
       "    .dataframe thead th {\n",
       "        text-align: right;\n",
       "    }\n",
       "</style>\n",
       "<table border=\"1\" class=\"dataframe\">\n",
       "  <thead>\n",
       "    <tr style=\"text-align: right;\">\n",
       "      <th></th>\n",
       "      <th>0</th>\n",
       "    </tr>\n",
       "    <tr>\n",
       "      <th>Date</th>\n",
       "      <th></th>\n",
       "    </tr>\n",
       "  </thead>\n",
       "  <tbody>\n",
       "    <tr>\n",
       "      <th>2024-01-16</th>\n",
       "      <td>-0.007743</td>\n",
       "    </tr>\n",
       "    <tr>\n",
       "      <th>2024-01-17</th>\n",
       "      <td>-0.019325</td>\n",
       "    </tr>\n",
       "    <tr>\n",
       "      <th>2024-01-18</th>\n",
       "      <td>-0.004203</td>\n",
       "    </tr>\n",
       "    <tr>\n",
       "      <th>2024-01-19</th>\n",
       "      <td>0.008072</td>\n",
       "    </tr>\n",
       "    <tr>\n",
       "      <th>2024-01-23</th>\n",
       "      <td>-0.026028</td>\n",
       "    </tr>\n",
       "  </tbody>\n",
       "</table>\n",
       "</div>"
      ],
      "text/plain": [
       "                   0\n",
       "Date                \n",
       "2024-01-16 -0.007743\n",
       "2024-01-17 -0.019325\n",
       "2024-01-18 -0.004203\n",
       "2024-01-19  0.008072\n",
       "2024-01-23 -0.026028"
      ]
     },
     "execution_count": 72,
     "metadata": {},
     "output_type": "execute_result"
    }
   ],
   "source": [
    "portfolio_returns = pd.DataFrame(portfolio_returns)\n",
    "portfolio_returns.head()"
   ]
  },
  {
   "cell_type": "code",
   "execution_count": 98,
   "id": "a250bf0b-7b80-401e-b211-0ec00b2183fc",
   "metadata": {},
   "outputs": [],
   "source": [
    "# Step 2: Define VaR Calculation Methods\n",
    "confidence_level = 0.95\n",
    "investment_value = 107595  # Provided total investment\n",
    "mean = portfolio_returns.mean()\n",
    "std_dev = portfolio_returns.std()\n",
    "z_score = norm.ppf(confidence_level) "
   ]
  },
  {
   "cell_type": "code",
   "execution_count": 100,
   "id": "a6861b91-1cf9-484a-afe3-67a7747ddb28",
   "metadata": {},
   "outputs": [
    {
     "name": "stdout",
     "output_type": "stream",
     "text": [
      "0    0.001267\n",
      "dtype: float64\n",
      "0    0.015158\n",
      "dtype: float64\n",
      "1.6448536269514722\n"
     ]
    }
   ],
   "source": [
    "print(mean)\n",
    "print(std_dev)\n",
    "print(z_score)"
   ]
  },
  {
   "cell_type": "code",
   "execution_count": 102,
   "id": "ad3cf2ce-93bf-4f65-9dc9-f0a384c53935",
   "metadata": {},
   "outputs": [
    {
     "data": {
      "text/plain": [
       "-2866.0860403864062"
      ]
     },
     "execution_count": 102,
     "metadata": {},
     "output_type": "execute_result"
    }
   ],
   "source": [
    "# Historical Simulation Method\n",
    "ascending_returns = np.sort(portfolio_returns)\n",
    "def var_historical(portfolio_returns, confidence):\n",
    "    return np.percentile(portfolio_returns, (1 - confidence) * 100)\n",
    "var_hist = var_historical(portfolio_returns, confidence_level)*investment_value\n",
    "var_hist"
   ]
  },
  {
   "cell_type": "code",
   "execution_count": 104,
   "id": "6907b5ff-fe32-4b93-a4a1-ad98862ce277",
   "metadata": {},
   "outputs": [
    {
     "data": {
      "text/plain": [
       "0   -2546.279959\n",
       "dtype: float64"
      ]
     },
     "execution_count": 104,
     "metadata": {},
     "output_type": "execute_result"
    }
   ],
   "source": [
    "# Variance-Covariance Method\n",
    "var_vc = (mean - (std_dev*z_score)) * investment_value\n",
    "var_vc"
   ]
  },
  {
   "cell_type": "code",
   "execution_count": 106,
   "id": "c02661e2-27ff-49ef-9a8f-8f035336e561",
   "metadata": {},
   "outputs": [
    {
     "data": {
      "text/plain": [
       "-117.586789683609"
      ]
     },
     "execution_count": 106,
     "metadata": {},
     "output_type": "execute_result"
    }
   ],
   "source": [
    "# Monte Carlo Simulation Method\n",
    "\n",
    "#generate uncorrelate random variables\n",
    "num_securities = 13\n",
    "num_simulations = 1000\n",
    "random_variables = np.random.normal(0,1,(num_simulations, num_securities))\n",
    "\n",
    "#Convert an uncorrelated random variable to correlated random variable \n",
    "cov_matrix = returns.cov()\n",
    "cholesky_matrix = np.linalg.cholesky(cov_matrix)\n",
    "correlated_random_variables = np.dot(random_variables,cholesky_matrix.T)\n",
    "\n",
    "#Required Parameters\n",
    "initial_price = [531.28, 123.29, 1057.96, 152.04, 285.21, 160.95, 452.80, 160.42, 844.89, 329.16, 253.26, 1827.44, 480.45]\n",
    "mu = [0.07, 0.07, 0.07, 0.07, 0.07, 0.07, 0.07, 0.07, 0.07, 0.07, 0.07, 0.07, 0.07]\n",
    "sigma = np.std(correlated_random_variables, axis=0)\n",
    "for t in range(1, 1001):  # Loop over 1000 steps\n",
    "    time_fraction = t / 1000\n",
    "\n",
    "#Price simulation\n",
    "price_simulation = initial_price * np.exp((mu - (sigma**2)/2) * time_fraction + sigma * correlated_random_variables)\n",
    "price_simulation = pd.DataFrame(price_simulation)\n",
    "\n",
    "#Simulated returns & portfolio returns\n",
    "simulated_returns = price_simulation.pct_change().dropna()\n",
    "sim_port_return = np.dot(simulated_returns, weights)\n",
    "\n",
    "sorted_returns = np.sort(sim_port_return)\n",
    "def var_monte_carlo(sorted_returns, confidence):\n",
    "    return np.percentile(sorted_returns, (1 - confidence) * 100)\n",
    "\n",
    "var_mc = var_monte_carlo(sorted_returns, confidence_level)*investment_value\n",
    "var_mc"
   ]
  },
  {
   "cell_type": "code",
   "execution_count": 108,
   "id": "29b33204-9864-4db1-b224-0e7918336d97",
   "metadata": {},
   "outputs": [
    {
     "name": "stdout",
     "output_type": "stream",
     "text": [
      "Performing stress test...\n"
     ]
    }
   ],
   "source": [
    "# Step 4: Stress Testing\n",
    "print(\"Performing stress test...\")\n",
    "stress_factor = 2  # Assume a market scenario with 2x volatility\n",
    "stress_portfolio_returns = portfolio_returns * stress_factor"
   ]
  },
  {
   "cell_type": "code",
   "execution_count": 110,
   "id": "5944d579-ddd6-4ff4-9cb3-f2658658ee00",
   "metadata": {},
   "outputs": [
    {
     "name": "stdout",
     "output_type": "stream",
     "text": [
      "-2866.0860403864062\n",
      "0   -2546.279959\n",
      "dtype: float64\n",
      "-117.586789683609\n"
     ]
    }
   ],
   "source": [
    "print(var_hist)\n",
    "print(var_vc)\n",
    "print(var_mc)"
   ]
  },
  {
   "cell_type": "code",
   "execution_count": 112,
   "id": "9da4d7b2-ac2f-4755-b587-78e33df39994",
   "metadata": {},
   "outputs": [
    {
     "data": {
      "text/html": [
       "<div>\n",
       "<style scoped>\n",
       "    .dataframe tbody tr th:only-of-type {\n",
       "        vertical-align: middle;\n",
       "    }\n",
       "\n",
       "    .dataframe tbody tr th {\n",
       "        vertical-align: top;\n",
       "    }\n",
       "\n",
       "    .dataframe thead th {\n",
       "        text-align: right;\n",
       "    }\n",
       "</style>\n",
       "<table border=\"1\" class=\"dataframe\">\n",
       "  <thead>\n",
       "    <tr style=\"text-align: right;\">\n",
       "      <th></th>\n",
       "      <th>0</th>\n",
       "    </tr>\n",
       "    <tr>\n",
       "      <th>Date</th>\n",
       "      <th></th>\n",
       "    </tr>\n",
       "  </thead>\n",
       "  <tbody>\n",
       "    <tr>\n",
       "      <th>2024-01-16</th>\n",
       "      <td>-833.081088</td>\n",
       "    </tr>\n",
       "    <tr>\n",
       "      <th>2024-01-17</th>\n",
       "      <td>-2079.240724</td>\n",
       "    </tr>\n",
       "  </tbody>\n",
       "</table>\n",
       "</div>"
      ],
      "text/plain": [
       "                      0\n",
       "Date                   \n",
       "2024-01-16  -833.081088\n",
       "2024-01-17 -2079.240724"
      ]
     },
     "execution_count": 112,
     "metadata": {},
     "output_type": "execute_result"
    }
   ],
   "source": [
    "portfolio_pnl = portfolio_returns * investment_value\n",
    "portfolio_pnl.head(2)"
   ]
  },
  {
   "cell_type": "code",
   "execution_count": 116,
   "id": "e308098f-fb7e-402e-990b-d41cd0d92637",
   "metadata": {},
   "outputs": [
    {
     "data": {
      "text/plain": [
       "0    13\n",
       "dtype: int64"
      ]
     },
     "execution_count": 116,
     "metadata": {},
     "output_type": "execute_result"
    }
   ],
   "source": [
    "breach = (var_hist > portfolio_pnl).sum()\n",
    "breach"
   ]
  },
  {
   "cell_type": "code",
   "execution_count": 118,
   "id": "576fca59-0ec9-4cd0-ac3e-a9fd6d8a8eb3",
   "metadata": {},
   "outputs": [
    {
     "data": {
      "text/html": [
       "<div>\n",
       "<style scoped>\n",
       "    .dataframe tbody tr th:only-of-type {\n",
       "        vertical-align: middle;\n",
       "    }\n",
       "\n",
       "    .dataframe tbody tr th {\n",
       "        vertical-align: top;\n",
       "    }\n",
       "\n",
       "    .dataframe thead th {\n",
       "        text-align: right;\n",
       "    }\n",
       "</style>\n",
       "<table border=\"1\" class=\"dataframe\">\n",
       "  <thead>\n",
       "    <tr style=\"text-align: right;\">\n",
       "      <th></th>\n",
       "      <th>0</th>\n",
       "    </tr>\n",
       "    <tr>\n",
       "      <th>Date</th>\n",
       "      <th></th>\n",
       "    </tr>\n",
       "  </thead>\n",
       "  <tbody>\n",
       "    <tr>\n",
       "      <th>2024-01-16</th>\n",
       "      <td>-833.081088</td>\n",
       "    </tr>\n",
       "    <tr>\n",
       "      <th>2024-01-17</th>\n",
       "      <td>-2079.240724</td>\n",
       "    </tr>\n",
       "  </tbody>\n",
       "</table>\n",
       "</div>"
      ],
      "text/plain": [
       "                      0\n",
       "Date                   \n",
       "2024-01-16  -833.081088\n",
       "2024-01-17 -2079.240724"
      ]
     },
     "execution_count": 118,
     "metadata": {},
     "output_type": "execute_result"
    }
   ],
   "source": [
    "mc_pnl = portfolio_returns * investment_value\n",
    "mc_pnl.head(2)"
   ]
  },
  {
   "cell_type": "code",
   "execution_count": 124,
   "id": "1776ae47-1a75-48a7-b86b-858efbb4b4d7",
   "metadata": {},
   "outputs": [
    {
     "data": {
      "text/plain": [
       "0    13\n",
       "dtype: int64"
      ]
     },
     "execution_count": 124,
     "metadata": {},
     "output_type": "execute_result"
    }
   ],
   "source": [
    "mc_breach = (var_hist > portfolio_pnl).sum()\n",
    "mc_breach"
   ]
  },
  {
   "cell_type": "code",
   "execution_count": null,
   "id": "6acca0ac-b642-49c2-986b-0c4e3e213e5d",
   "metadata": {},
   "outputs": [],
   "source": []
  }
 ],
 "metadata": {
  "kernelspec": {
   "display_name": "Python 3 (ipykernel)",
   "language": "python",
   "name": "python3"
  },
  "language_info": {
   "codemirror_mode": {
    "name": "ipython",
    "version": 3
   },
   "file_extension": ".py",
   "mimetype": "text/x-python",
   "name": "python",
   "nbconvert_exporter": "python",
   "pygments_lexer": "ipython3",
   "version": "3.12.4"
  }
 },
 "nbformat": 4,
 "nbformat_minor": 5
}
